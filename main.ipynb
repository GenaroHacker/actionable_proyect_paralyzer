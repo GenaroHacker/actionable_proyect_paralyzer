{
  "nbformat": 4,
  "nbformat_minor": 0,
  "metadata": {
    "colab": {
      "provenance": [],
      "toc_visible": true,
      "authorship_tag": "ABX9TyMQqGZ+ye3QIh2nYGwByXhH",
      "include_colab_link": true
    },
    "kernelspec": {
      "name": "python3",
      "display_name": "Python 3"
    },
    "language_info": {
      "name": "python"
    }
  },
  "cells": [
    {
      "cell_type": "markdown",
      "metadata": {
        "id": "view-in-github",
        "colab_type": "text"
      },
      "source": [
        "<a href=\"https://colab.research.google.com/github/genarominetto/actionable_builder/blob/main/main.ipynb\" target=\"_parent\"><img src=\"https://colab.research.google.com/assets/colab-badge.svg\" alt=\"Open In Colab\"/></a>"
      ]
    },
    {
      "cell_type": "code",
      "execution_count": 1,
      "metadata": {
        "cellView": "form",
        "id": "oagz0DbYCkKj"
      },
      "outputs": [],
      "source": [
        "%%capture\n",
        "#@title Set Up\n",
        "!git clone https://github.com/genarominetto/write_imports.git\n",
        "from write_imports.write_imports import write_imports\n",
        "\n",
        "!git clone https://github.com/genarominetto/actionable_builder.git\n"
      ]
    },
    {
      "cell_type": "code",
      "source": [
        "\n",
        "# Delete this line to see the new imports\n",
        "%%capture\n",
        "\n",
        "\n",
        "\n",
        "#@title Import Statements\n",
        "#Modules: ['write_imports', 'actionable_builder']\n",
        "\n",
        "\n",
        "\n",
        "from write_imports.write_imports import write_imports\n",
        "\n",
        "from write_imports.LearningPython.BasicExamples.intro_functions import print_hello_world\n",
        "\n",
        "from actionable_builder.modules.rank_columns import ask_user_cmp\n",
        "from actionable_builder.modules.rank_columns import ask_user_cmp\n",
        "from actionable_builder.modules.rank_columns import check_minimum_tasks\n",
        "from actionable_builder.modules.rank_columns import extract_placeholders\n",
        "from actionable_builder.modules.rank_columns import check_placeholders\n",
        "from actionable_builder.modules.rank_columns import fetch_records_for_ranking\n",
        "from actionable_builder.modules.rank_columns import update_rank\n",
        "from actionable_builder.modules.rank_columns import sort_and_update\n",
        "\n",
        "from actionable_builder.modules.add_example_data import add_example_data\n",
        "\n",
        "from actionable_builder.modules.create_database import create_table\n",
        "from actionable_builder.modules.create_database import insert_record\n",
        "from actionable_builder.modules.create_database import create_empty_database\n",
        "from actionable_builder.modules.create_database import check_or_insert_with_parent\n",
        "from actionable_builder.modules.create_database import check_step_exists\n",
        "from actionable_builder.modules.create_database import add_task\n",
        "from actionable_builder.modules.create_database import add_placeholders\n",
        "from actionable_builder.modules.create_database import initialize_database\n",
        "from actionable_builder.modules.create_database import create_example_database\n",
        "from actionable_builder.modules.create_database import download_database\n",
        "\n",
        "from actionable_builder.modules.sql_core import insert_several_records\n",
        "from actionable_builder.modules.sql_core import read_records\n",
        "from actionable_builder.modules.sql_core import read_last_record\n",
        "from actionable_builder.modules.sql_core import update_record\n",
        "from actionable_builder.modules.sql_core import remove_record\n",
        "from actionable_builder.modules.sql_core import run_command\n",
        "\n",
        "from actionable_builder.modules.pick_zipfian import pick_zipfian\n",
        "\n",
        "\n",
        "\n",
        "\n",
        "\n",
        "print(write_imports([]))\n",
        "\n",
        "\n",
        "\n"
      ],
      "metadata": {
        "cellView": "form",
        "id": "sSs5fvl1CybO"
      },
      "execution_count": 2,
      "outputs": []
    },
    {
      "cell_type": "code",
      "source": [
        "# @title Create and Populate Database\n",
        "\n",
        "if __name__ == \"__main__\":\n",
        "    initialize_database(2)\n",
        "\n",
        "    # Example task input\n",
        "    task = {\n",
        "        \"place\": \"home\",\n",
        "        \"context\": \"create\",\n",
        "        \"tag\": \"guitar\",\n",
        "        \"task\": \"loop %note%\",\n",
        "        \"steps\": [\n",
        "            \"identify the note in each string\",\n",
        "            \"start the metronome at 30\",\n",
        "            \"loop over each string 3 times\"\n",
        "        ]\n",
        "    }\n",
        "\n",
        "    add_task(task)\n",
        "\n",
        "    # Example usage of add_placeholders\n",
        "    placeholders = {\n",
        "        \"note\": [\"C\", \"C#\", \"D\"],\n",
        "        \"color\": [\"red\", \"blue\", \"green\"]\n",
        "    }\n",
        "\n",
        "    add_placeholders(placeholders)\n",
        "\n"
      ],
      "metadata": {
        "colab": {
          "base_uri": "https://localhost:8080/"
        },
        "cellView": "form",
        "id": "xGt8d5zHGCBU",
        "outputId": "090b6cdf-0467-490e-a09a-c30d8c24d950"
      },
      "execution_count": 3,
      "outputs": [
        {
          "output_type": "stream",
          "name": "stdout",
          "text": [
            "\n",
            "1. Create empty database\n",
            "2. Create database with example data\n",
            "3. Upload database\n",
            "\n",
            "2\n",
            "\n",
            "\n"
          ]
        }
      ]
    },
    {
      "cell_type": "code",
      "source": [
        "# @title Rank Columns\n",
        "%%capture\n",
        "# This script updates ranks in 'tasks.db' tables.\n",
        "# It groups unranked records by parent ID, sorts them based on user input and updates their ranks.\n",
        "\n",
        "if __name__ == \"__main__\":\n",
        "    db_path = '/content/tasks.db'\n",
        "\n",
        "    check_minimum_tasks(db_path)\n",
        "    check_placeholders(db_path)\n",
        "\n",
        "    # Sorting and updating ranks for each table, grouped by their parent column\n",
        "    for table_name, parent_column in [('CONTEXTS', 'PLACE_ID'), ('TAGS', 'CONTEXT_ID'),\n",
        "                                      ('TASKS', 'TAG_ID'), ('PLACEHOLDERS', 'TYPE')]:\n",
        "        sort_and_update(db_path, table_name, parent_column)\n",
        "\n",
        "    download_database()\n",
        "\n"
      ],
      "metadata": {
        "cellView": "form",
        "id": "84cAz_5AmROY"
      },
      "execution_count": 4,
      "outputs": []
    },
    {
      "cell_type": "code",
      "source": [
        "# @title Select Five Tasks\n",
        "import sqlite3\n",
        "import random\n",
        "\n",
        "def select_zipf_tasks(cursor):\n",
        "    \"\"\"\n",
        "    Selects 5 unique tasks for the selected place in the database using Zipf distribution.\n",
        "    Replaces placeholders in task names and returns a list of dicts with task id and text.\n",
        "\n",
        "    Args:\n",
        "    cursor (sqlite3.Cursor): A cursor to execute queries on the database.\n",
        "\n",
        "    Returns:\n",
        "    list of dicts: A list of 5 dictionaries with keys 'task id' and 'text'.\n",
        "    \"\"\"\n",
        "\n",
        "    def select_by_zipf(items):\n",
        "        \"\"\"\n",
        "        Applies Zipf's law to select an item based on rank.\n",
        "        \"\"\"\n",
        "        if not items:\n",
        "            return None\n",
        "\n",
        "        harmonic_sum = sum(1.0 / i for i in range(1, len(items) + 1))\n",
        "        probabilities = [(1.0 / i) / harmonic_sum for i in range(1, len(items) + 1)]\n",
        "        return random.choices(items, weights=probabilities, k=1)[0]\n",
        "\n",
        "    def replace_placeholders(task_name, placeholders):\n",
        "        \"\"\"\n",
        "        Replaces placeholders in a task name using Zipf distribution.\n",
        "        \"\"\"\n",
        "        while '%' in task_name:\n",
        "            start = task_name.find('%')\n",
        "            end = task_name.find('%', start + 1)\n",
        "            placeholder_type = task_name[start + 1:end]\n",
        "            relevant_placeholders = [p for p in placeholders if p[1] == placeholder_type]\n",
        "            placeholder_value = select_by_zipf(relevant_placeholders)[2] if relevant_placeholders else ''\n",
        "            task_name = task_name[:start] + placeholder_value + task_name[end + 1:]\n",
        "        return task_name\n",
        "\n",
        "    # Select the place marked as selected\n",
        "    cursor.execute(\"SELECT * FROM PLACES WHERE IS_SELECTED = 1;\")\n",
        "    selected_place = cursor.fetchone()\n",
        "    if not selected_place:\n",
        "        return \"No place is selected.\"\n",
        "\n",
        "    selected_place_id = selected_place[0]\n",
        "    selected_tasks = set()\n",
        "    final_tasks = []\n",
        "\n",
        "    # Fetch all placeholders for replacement\n",
        "    cursor.execute(\"SELECT * FROM PLACEHOLDERS;\")\n",
        "    placeholders = cursor.fetchall()\n",
        "\n",
        "    while len(final_tasks) < 5:\n",
        "        # Context, Tag, and Task selection\n",
        "        cursor.execute(f\"SELECT * FROM CONTEXTS WHERE PLACE_ID = {selected_place_id};\")\n",
        "        contexts = cursor.fetchall()\n",
        "        selected_context = select_by_zipf(contexts)\n",
        "        cursor.execute(f\"SELECT * FROM TAGS WHERE CONTEXT_ID = {selected_context[0]};\")\n",
        "        tags = cursor.fetchall()\n",
        "        selected_tag = select_by_zipf(tags)\n",
        "        cursor.execute(f\"SELECT * FROM TASKS WHERE TAG_ID = {selected_tag[0]};\")\n",
        "        tasks = cursor.fetchall()\n",
        "        selected_task = select_by_zipf(tasks)\n",
        "\n",
        "        # Ensure uniqueness of tasks\n",
        "        if selected_task[0] not in selected_tasks:\n",
        "            selected_tasks.add(selected_task[0])\n",
        "            task_with_placeholders_replaced = replace_placeholders(selected_task[2], placeholders)\n",
        "            final_tasks.append({\"task id\": selected_task[0], \"text\": task_with_placeholders_replaced})\n",
        "\n",
        "    return final_tasks\n",
        "\n",
        "# Example of how to use the function\n",
        "# Create a database connection and cursor\n",
        "conn = sqlite3.connect(db_path)\n",
        "cursor = conn.cursor()\n",
        "\n",
        "# Execute the function\n",
        "tasks_output = select_zipf_tasks(cursor)\n",
        "\n",
        "# Closing the database connection\n",
        "conn.close()\n",
        "\n",
        "tasks_output\n",
        "\n"
      ],
      "metadata": {
        "colab": {
          "base_uri": "https://localhost:8080/"
        },
        "id": "_hZapjt5JbVG",
        "outputId": "b8e7002a-ff53-44ba-ba33-3f15d235a100",
        "cellView": "form"
      },
      "execution_count": 5,
      "outputs": [
        {
          "output_type": "execute_result",
          "data": {
            "text/plain": [
              "[{'task id': 13, 'text': 'do a 30-minute full-body workout'},\n",
              " {'task id': 10, 'text': 'create a birdhouse using wood'},\n",
              " {'task id': 3, 'text': 'bake peanut butter cookies'},\n",
              " {'task id': 16, 'text': 'plant lavender in the garden'},\n",
              " {'task id': 6, 'text': 'perform a 30-minute high-intensity workout'}]"
            ]
          },
          "metadata": {},
          "execution_count": 5
        }
      ]
    }
  ]
}